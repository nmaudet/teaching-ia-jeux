{
 "cells": [
  {
   "cell_type": "markdown",
   "metadata": {},
   "source": [
    "# Sujet de mini-projet (2018): Ultimate TicTacToe\n",
    "\n",
    "## Environnement\n",
    "Vous utiliserez le module `PySpriteWorld` qui élabore pygame et permet de manipuler simplement des personnages, cartes, et autres objets à l'écran. Ce module a été développé par Yann Chevaleyre. Une version plus complète se trouve ici: https://github.com/yannche/pySpriteWorld, mais la version disponible dans ce répertoire suffit a priori pour faire tout ce dont vous avez besoin.\n",
    "\n",
    "Notez que vous pourrez ensuite éditer vos propres cartes à l'aide de l'éditeur [Tiled](http://www.mapeditor.org/), et exporter ces cartes au format `.json`.\n",
    "Il faut utiliser au moins trois calques lors de la création de votre carte: \n",
    "* un calque **joueur**, où seront les personnages \n",
    "* un calque **ramassable**, qui contient les objets que les personnages peuvent ramasser\n",
    "* un calque **obstacles**, pour les murs, les arbres, etc.\n",
    "\n",
    "**Note**: on fait ici l'hypothèse que toutes les informations (positions des agents et des trésors sont disponibles pour tous les agents, i.e. on ne se pose pas de problème de communication)\n",
    "\n",
    "Une difficulté pour le sujet de projet concerne le fait que les joueurs doivent pouvoir identifier quel type de fiole est à quel endroit, or le calque ramassable ne les distingue pas a priori. \n",
    "Il est possible d'utiliser `o.tileid` qui donne la coordonnée du symbole dans la fiche `tiny_complete`, et de là vous pouvez déduire la couleur de la fiole (voir pour un exemple le code `UltimateTicTacToe.py`).  \n"
   ]
  },
  {
   "cell_type": "markdown",
   "metadata": {},
   "source": [
    "## 1: Echauffement\n",
    "\n",
    "Vous coderez grâce à l'algorithme A\\* un calcul de plus court chemin permettant à votre personnage d'atteindre une fiole, puis de la porter au centre du terrain. \n",
    "Vous pouvez utiliser comme squelette de code le fichier `UltimateTicTacToe.py`. "
   ]
  },
  {
   "cell_type": "markdown",
   "metadata": {},
   "source": [
    "## 2-3: Mini-Projet\n",
    "\n",
    "Dans ce projet, on met en compétition deux personnages dans un monde labyrinthique.\n",
    "Les deux joueurs vont s'affronter en jouant à une partie de Ultimate TicTacToe. \n",
    "Les règles de base sont les suivantes: \n",
    "* le terrain de TicTacToe consiste en 9 terrains \"classiques\" de TicTacToe (les \"petits terrains\"), chacun de 3x3. \n",
    "* chaque joueur, à son tour, ramasse une fiole de sa couleur et l'utilise comme un pion pour jouer sur un petit terrain de TicTacToe\n",
    "* en jouant sur une case donnée de son terrain, le joueur contraint le terrain sur lequel l'autre joueur pourra jouer. \n",
    "* lorsqu'un joueur gagne une partie sur un petit terrain, il gagne ce terrain\n",
    "* lorsqu'un joueur aligne trois petits terrains victorieux, il gagne globalement la partie\n",
    "\n",
    "Pour une description illustrée, voir [ici](https://mathwithbaddrawings.com/2013/06/16/ultimate-tic-tac-toe/)\n",
    "\n",
    "En cas d'égalité, vous pourrez tester les variantes suivantes: \n",
    "* le terrain est gagné par les deux joueurs\n",
    "* le terrain est gagné par le joueur qui a parcouru le moins de distance pour jouer sur ce terrain\n",
    "* etc. \n",
    "\n",
    "\n",
    "\n",
    "### Travail demandé: \n",
    "Proposer au minimum deux IAs permettant de simuler un match entre deux joueurs. \n",
    "Pour comparer vos IAs, vous pourrez répéter plusieurs matchs. Si vous proposez, vous pourrez organiser la compétition sous forme d'un tournoi au cours duquel tous les joueurs se rencontrent. \n",
    "Vous pouvez utiliser toutes les notions qui vous semblent pertinentes vues en cours-TDs. \n",
    "\n",
    "\n",
    "### Commentaires / questions:\n",
    "\n",
    "Une liste de certaines questions ou commentaires que vous avez fait pendant le projet: \n",
    "\n",
    "\n"
   ]
  },
  {
   "cell_type": "code",
   "execution_count": null,
   "metadata": {
    "collapsed": true
   },
   "outputs": [],
   "source": []
  }
 ],
 "metadata": {
  "anaconda-cloud": {},
  "kernelspec": {
   "display_name": "Python 3",
   "language": "python",
   "name": "python3"
  },
  "language_info": {
   "codemirror_mode": {
    "name": "ipython",
    "version": 3
   },
   "file_extension": ".py",
   "mimetype": "text/x-python",
   "name": "python",
   "nbconvert_exporter": "python",
   "pygments_lexer": "ipython3",
   "version": "3.4.2"
  }
 },
 "nbformat": 4,
 "nbformat_minor": 2
}
