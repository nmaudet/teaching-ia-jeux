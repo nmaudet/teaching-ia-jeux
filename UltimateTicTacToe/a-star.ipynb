{
 "cells": [
  {
   "cell_type": "markdown",
   "metadata": {},
   "source": [
    "# Recherche heuristique dans les graphes d'états"
   ]
  },
  {
   "cell_type": "markdown",
   "metadata": {
    "slideshow": {
     "slide_type": "slide"
    }
   },
   "source": [
    "### Références Bibliographiques\n",
    "\n",
    "Dans ce cours je suis largement les chapitres de référence suivants: \n",
    "> * *Recherche heuristique dans les graphes d'états*, Henry Farreny, In Panorama de l'IA, vol. 1\n",
    "* *Solving problems by Searching* (Chapter 3) et *Informed (Heuristic) Search Strategies* (Chapter 4), Stuart Russel and Peter Norvig. In Artificial Intelligence, A Modern Approach. \n",
    "* Le code est également inspiré de la structure de <a>http://aima.cs.berkeley.edu/python/search.html<a>\n"
   ]
  },
  {
   "cell_type": "markdown",
   "metadata": {
    "slideshow": {
     "slide_type": "slide"
    }
   },
   "source": [
    "## 1. Graphes d'états\n",
    "\n",
    "On considère de manière générale le problème consistant à trouver un chemin de coût minimal pour aller d'un **état initial** à un **état but** dans un **graphe d'états**. \n",
    "\n",
    "* Passer d'un état à un autre à un **coût**. \n",
    "* Une solution est **optimale** si elle permet de passer de l'état initial à l'état but avec un coût minimal. \n",
    "* Un paramètre important permettant d'apprécier la difficulté d'un problème est le **facteur de branchement** du graphe d'état (le nombre de successeurs possibles à chaque état). \n",
    "\n",
    "\n",
    "\n"
   ]
  },
  {
   "cell_type": "markdown",
   "metadata": {
    "slideshow": {
     "slide_type": "subslide"
    }
   },
   "source": [
    "La taille des problèmes rend parfois impossible la création exhaustive du graphe d'état en mémoire. \n",
    "\n",
    "> Par exemple, le problème du taquin de taille *n x n* donne lieu à *(n^2)!* états possible. \n",
    "Pour vous convaincre de la difficulté du problème, vous pouvez générer quelques taquins au hasard et essayer de trouver la solution. Dans le code ci-dessous, la case 0 représente la case vide. Les coups possibles sont le déplacement d'une tuile sur la case vide. \n",
    "Note: en générant deux taquins au hasard, vous avez une chance sur deux de tomber sur un problème réalisable. Voyez-vous pourquoi? \n"
   ]
  },
  {
   "cell_type": "code",
   "execution_count": 4,
   "metadata": {
    "collapsed": false
   },
   "outputs": [
    {
     "name": "stdout",
     "output_type": "stream",
     "text": [
      "Populating the interactive namespace from numpy and matplotlib\n"
     ]
    }
   ],
   "source": [
    "%pylab inline\n",
    "import numpy as np"
   ]
  },
  {
   "cell_type": "code",
   "execution_count": 5,
   "metadata": {
    "collapsed": false,
    "slideshow": {
     "slide_type": "subslide"
    }
   },
   "outputs": [
    {
     "name": "stdout",
     "output_type": "stream",
     "text": [
      "Taquin initial:\n",
      " [[ 0 12  1 10]\n",
      " [ 9  7  6 13]\n",
      " [15  5 14  4]\n",
      " [ 2 11  8  3]]\n",
      "Taquin but:\n",
      " [[ 2 12  4  9]\n",
      " [ 0 14  5  8]\n",
      " [ 1 11 10 13]\n",
      " [15  7  3  6]]\n"
     ]
    }
   ],
   "source": [
    "tiles1 = np.random.permutation(range(0,16)) # 0 is the empty slot\n",
    "tiles2 = np.random.permutation(range(0,16)) # 0 is the empty slot\n",
    "puzzle1 = np.array(tiles1)\n",
    "puzzle2 = np.array(tiles2)\n",
    "puzzle1 = np.reshape(puzzle1,(4,4))\n",
    "puzzle2 = np.reshape(puzzle2,(4,4))\n",
    "print(\"Taquin initial:\\n\", puzzle1)\n",
    "print(\"Taquin but:\\n\", puzzle2)"
   ]
  },
  {
   "cell_type": "markdown",
   "metadata": {},
   "source": [
    "> Quel est le facteur de branchement pour un problème de taquin? "
   ]
  },
  {
   "cell_type": "markdown",
   "metadata": {
    "slideshow": {
     "slide_type": "slide"
    }
   },
   "source": [
    "### Critères de comparaison\n",
    "\n",
    "Suivant (Russel & Norvig, 2003), ces différentes approches peuvent se comparer en terme de :\n",
    "* **complétude**: l'algorithme trouve-t-il une solution (si une existe)? \n",
    "* leur **qualité**: la solution trouvée est-elle optimale? \n",
    "* **complexité de calcul**: le temps de calcul nécessaire pour obtenir la solution. \n",
    "* **complexité en espace**: l'espace de stockage nécessaire pendant le calcul. "
   ]
  },
  {
   "cell_type": "markdown",
   "metadata": {
    "slideshow": {
     "slide_type": "slide"
    }
   },
   "source": [
    "## 2. Rappels: Recherche non informée\n",
    "\n",
    "Le graphe est parcouru en étendant les noeuds. Etendre un noeud consiste à générer ses successeurs dans le graphe d'état. On peut donc distinguer la **frontière**, i.e. les noeuds qui ont été générés et qui sont candidats à être étendus à l'itération suivante, et la **réserve**, i.e. les noeuds qui ont déjà été étendus. On note ici:\n",
    "* *b* le facteur de branchement du problème,\n",
    "* *d* la valeur de la solution la moins profonde\n",
    "\n",
    "Il existe plusieurs types possibles d'exploration, qui se distinguent selon la stratégie d'expansion des noeuds. \n",
    "\n",
    "* **depth-first** (DFS, profondeur d'abord): on étend le noeud le plus profond de le frontière. Noeuds à stocker: $O(bd)$. Problèmes de terminaison. \n",
    "* **breadth-first** (BFS, largeur d'abord): tous les successeurs d'un noued sont étendus. Noeuds à stocker: $O(b^{d+1})$\n",
    "* **uniform-cost**: on étend le noeud avec le coût de chemin le plus faible jusqu'à présent. Si tous les coûts sont de les mêmes, on se retrouve avec un BFS. "
   ]
  },
  {
   "cell_type": "markdown",
   "metadata": {
    "slideshow": {
     "slide_type": "slide"
    }
   },
   "source": [
    "## 3. Recherche heuristique informée\n",
    "\n",
    "**Idée**: utiliser des connaissances du domaine pour guider la recherche. \n",
    "Supposons que l'on puisse estimer le coût depuis le noeud *n* jusqu'à un état but, et notons *h(n)* ce coût. \n",
    "\n",
    "La première idée est de guider la recherche en étendant le noeud *n* qui possède la valeur de *h(n)* la plus faible. C'est l'algorithme **greedy best-first**. \n",
    "L'algorithme *A* * améliore cette idée. \n",
    "\n",
    "### 3.1. Algortihme *A* *\n",
    "\n",
    "Il s'agit d'un algorithme de type best-first, qui étend en priorité le noeud de la frontière avec le meilleur score *f(n)*\n",
    "\n",
    "> *f(n) = g(n) + h(n)*\n",
    "\n",
    "avec\n",
    "* *g(n)* est le coût du chemin jusqu'au noeud *n*\n",
    "* *h(n)* est le coût (estimé) de *n* jusqu'à un état but. "
   ]
  },
  {
   "cell_type": "markdown",
   "metadata": {
    "slideshow": {
     "slide_type": "subslide"
    }
   },
   "source": [
    "### Propriétés des heuristiques\n",
    "\n",
    "\n",
    "#### Admissibilité \n",
    "* une heuristique est **admissible** lorsqu'elle ne surestime jamais la distance à l'état but (on parle aussi d'heuristique minorante)\n",
    "\n",
    "Sous l'hypothèse d'admissibiilité de l'heuristique, *A* * retourne une solution optimale. \n",
    "\n",
    "\n"
   ]
  },
  {
   "cell_type": "markdown",
   "metadata": {
    "slideshow": {
     "slide_type": "subslide"
    }
   },
   "source": [
    "#### Consistence\n",
    "\n",
    "* une heuristique est consistante ssi pour tout état *m* et tout fils de *n* de *m*, on a:\n",
    "    > *h(m)≤cost(m,n)+h(n)*\n",
    "    \n",
    "Autrement dit, les valeurs de $f(n)$ sont non-décroissantes sur les chemins depuis la racine.\n"
   ]
  },
  {
   "cell_type": "markdown",
   "metadata": {
    "slideshow": {
     "slide_type": "slide"
    }
   },
   "source": [
    "### Implémentation\n",
    "\n",
    "On va utiliser deux structures de données:\n",
    "* la **frontière**, qui stocke les noeuds candidats à être étendus; et \n",
    "* la **réserve**, qui garde en mémoire les noeuds déjà étendus. C'est important pour éviter de ré-étendre des noeuds déjà visités. \n",
    "\n",
    "Gestion de la frontière grâce à un tas (permettant l'insertion rapide et garantissant que l'élement racine est toujours celui de meilleure priorité). En Python on peut utiliser le module heapq. "
   ]
  },
  {
   "cell_type": "code",
   "execution_count": 6,
   "metadata": {
    "collapsed": false,
    "slideshow": {
     "slide_type": "subslide"
    }
   },
   "outputs": [
    {
     "name": "stdout",
     "output_type": "stream",
     "text": [
      "[2, 5, 3]\n",
      "1\n"
     ]
    }
   ],
   "source": [
    "import heapq\n",
    "\n",
    "q=[]\n",
    "heapq.heappush(q,2)\n",
    "heapq.heappush(q,5)\n",
    "heapq.heappush(q,3)\n",
    "heapq.heappush(q,1)\n",
    "h = heapq.heappop(q)\n",
    "print (q)\n",
    "print(h)\n"
   ]
  },
  {
   "cell_type": "markdown",
   "metadata": {},
   "source": [
    "Pour la gestion de la réserve, il est important de pouvoir accéder rapidement aux éléments. Une table de hachage (dictionnaire en Python) est un choix judicieux ici. \n",
    "Au final, la boucle principale de l'algorithme est la suivante: "
   ]
  },
  {
   "cell_type": "code",
   "execution_count": null,
   "metadata": {
    "collapsed": true,
    "slideshow": {
     "slide_type": "slide"
    }
   },
   "outputs": [],
   "source": [
    "def astar(p):\n",
    "    \"\"\" application de l'algorithme a-star sur un probleme donné\n",
    "        \"\"\"\n",
    "    nodeInit = Noeud(p.init,0,None)\n",
    "    frontiere = [(nodeInit.g+p.h_value(nodeInit.etat,p.but),nodeInit)] \n",
    "    reserve = {}        \n",
    "    bestNoeud = nodeInit\n",
    "    \n",
    "    while frontiere != [] and not p.estBut(bestNoeud.etat):              \n",
    "        (min_f,bestNoeud) = heapq.heappop(frontiere)         \n",
    "    # Suppose qu'un noeud en réserve n'est jamais ré-étendu \n",
    "    # Hypothèse de consistence de l'heuristique\n",
    "    # ne gère pas les duplicatas dans la frontière\n",
    "    \n",
    "        if p.immatriculation(bestNoeud.etat) not in reserve:            \n",
    "            reserve[p.immatriculation(bestNoeud.etat)] = bestNoeud.g #maj de reserve\n",
    "            nouveauxNoeuds = bestNoeud.expand(p)            \n",
    "            for n in nouveauxNoeuds:\n",
    "                f = n.g+p.h_value(n.etat,p.but)\n",
    "                heapq.heappush(frontiere, (f,n))              \n",
    "    # Afficher le résultat                    \n",
    "    return"
   ]
  },
  {
   "cell_type": "markdown",
   "metadata": {
    "slideshow": {
     "slide_type": "slide"
    }
   },
   "source": [
    "### Problème de ré-expansion de noeuds\n",
    "\n",
    "**Important**: si l'heuristique utilisée est consistante, alors un noeud un sommet développé par *A* * ne peut l'être qu'une fois. Autrement dit, les noeuds qui passent en réserve ne repassent jamais dans la frontière. (Cette hypothèse est faite dans le code ci-dessus)\n",
    "\n",
    "Lorque l'heuristique n'est pas consistante, ce n'est pas le cas et on peut avoir à ré-étendre des noeuds... \n",
    "\n",
    "> Dans quelle situation faut-il replacer un noeud en frontière? \n"
   ]
  },
  {
   "cell_type": "markdown",
   "metadata": {},
   "source": [
    "## 3.2. Iterative Deepening A*\n",
    "\n",
    "Il faut noter que A, lorsqu'il étend un noeud, génère **tous ses fils**. \n",
    "C'est donc potentiellement très gourmand en espace mémoire. \n",
    "\n",
    "Pour éviter ce problème, *IDA* * n'étend qu'un seul de ses fils. \n",
    "\n",
    "**Idée**: au lieu de stocker la frontière, on va ré-effectuer les calculs. \n",
    "Le **seuil** à partir duquel on ré-entend les noeuds depuis la racine sera augmenté incrémentalement. Ce seuil est initialisé à la valeur *h* de la recine. \n",
    "\n"
   ]
  },
  {
   "cell_type": "markdown",
   "metadata": {
    "slideshow": {
     "slide_type": "slide"
    }
   },
   "source": [
    "## Trouver les bonnes heuristiques\n",
    "\n",
    "Notons tout d'abord que l'**heuristique nulle** est bien une heuristique admissible. \n",
    " > A quoi correspond alors l'algortihme *A* *? \n",
    "\n",
    "Des heuristiques classiques pour les problèmes de navigation/recherche de chemin (*path-finding*) sont: \n",
    "* distances de Manhattan (nombre de cases à parcourir sur un monde de type grille)\n",
    "* distance euclidienne (distance à vol d'oiseau)\n",
    "\n",
    "> Quelles heuristiques sont envisageables pour le taquin? "
   ]
  },
  {
   "cell_type": "code",
   "execution_count": 7,
   "metadata": {
    "collapsed": false
   },
   "outputs": [],
   "source": [
    "import probleme\n",
    "import taquin"
   ]
  },
  {
   "cell_type": "code",
   "execution_count": 8,
   "metadata": {
    "collapsed": false
   },
   "outputs": [],
   "source": [
    "puzzle1 = np.array(([2,1,6,4,0,8,7,5,3]))\n",
    "puzzle2 = np.array(([1,2,3,8,0,4,7,6,5]))\n",
    "\n",
    "puzzle1 = np.reshape(puzzle1,(3,3))\n",
    "puzzle2 = np.reshape(puzzle2,(3,3))"
   ]
  },
  {
   "cell_type": "code",
   "execution_count": 9,
   "metadata": {
    "collapsed": false
   },
   "outputs": [
    {
     "name": "stdout",
     "output_type": "stream",
     "text": [
      "=------------------------------=\n",
      "Heuristique: manhattan\n",
      "Etat initial:\n",
      " [[2 1 6]\n",
      " [4 0 8]\n",
      " [7 5 3]]\n",
      "Etat but:\n",
      " [[1 2 3]\n",
      " [8 0 4]\n",
      " [7 6 5]]\n",
      "=------------------------------=\n",
      "Solution:\n",
      "\n",
      "[[1 2 3]\n",
      " [8 0 4]\n",
      " [7 6 5]]valeur=18\n",
      "[[1 2 3]\n",
      " [8 4 0]\n",
      " [7 6 5]]valeur=17\n",
      "[[1 2 0]\n",
      " [8 4 3]\n",
      " [7 6 5]]valeur=16\n",
      "[[1 0 2]\n",
      " [8 4 3]\n",
      " [7 6 5]]valeur=15\n",
      "[[1 4 2]\n",
      " [8 0 3]\n",
      " [7 6 5]]valeur=14\n",
      "[[1 4 2]\n",
      " [8 6 3]\n",
      " [7 0 5]]valeur=13\n",
      "[[1 4 2]\n",
      " [8 6 3]\n",
      " [7 5 0]]valeur=12\n",
      "[[1 4 2]\n",
      " [8 6 0]\n",
      " [7 5 3]]valeur=11\n",
      "[[1 4 2]\n",
      " [8 0 6]\n",
      " [7 5 3]]valeur=10\n",
      "[[1 4 2]\n",
      " [0 8 6]\n",
      " [7 5 3]]valeur=9\n",
      "[[0 4 2]\n",
      " [1 8 6]\n",
      " [7 5 3]]valeur=8\n",
      "[[4 0 2]\n",
      " [1 8 6]\n",
      " [7 5 3]]valeur=7\n",
      "[[4 2 0]\n",
      " [1 8 6]\n",
      " [7 5 3]]valeur=6\n",
      "[[4 2 6]\n",
      " [1 8 0]\n",
      " [7 5 3]]valeur=5\n",
      "[[4 2 6]\n",
      " [1 0 8]\n",
      " [7 5 3]]valeur=4\n",
      "[[4 2 6]\n",
      " [0 1 8]\n",
      " [7 5 3]]valeur=3\n",
      "[[0 2 6]\n",
      " [4 1 8]\n",
      " [7 5 3]]valeur=2\n",
      "[[2 0 6]\n",
      " [4 1 8]\n",
      " [7 5 3]]valeur=1\n",
      "[[2 1 6]\n",
      " [4 0 8]\n",
      " [7 5 3]]valeur=0\n",
      "Nombre d'étapes de la solution: 18\n",
      "=------------------------------=\n",
      "Nombre de noeuds explorés 168\n",
      "Nombre de noeuds de la frontière 138\n",
      "Nombre de noeuds en mémoire: 306\n",
      "temps de calcul: 1.433562994003296\n",
      "=------------------------------=\n"
     ]
    }
   ],
   "source": [
    "p1 = taquin.ProblemeTaquin(puzzle1,puzzle2,'manhattan')\n",
    "print (\"=------------------------------=\")\n",
    "print (\"Heuristique:\",  p1.heuristique)\n",
    "print (\"Etat initial:\\n\", puzzle1)\n",
    "print (\"Etat but:\\n\", puzzle2)\n",
    "print (\"=------------------------------=\")\n",
    "print (\"Solution:\\n\")\n",
    "probleme.astar(p1,True,False)\n"
   ]
  },
  {
   "cell_type": "code",
   "execution_count": 10,
   "metadata": {
    "collapsed": false
   },
   "outputs": [
    {
     "name": "stdout",
     "output_type": "stream",
     "text": [
      "=------------------------------=\n",
      "Heuristique: pieces\n",
      "Etat initial:\n",
      " [[2 1 6]\n",
      " [4 0 8]\n",
      " [7 5 3]]\n",
      "Etat but:\n",
      " [[1 2 3]\n",
      " [8 0 4]\n",
      " [7 6 5]]\n",
      "=------------------------------=\n",
      "Solution:\n",
      "\n",
      "[[1 2 3]\n",
      " [8 0 4]\n",
      " [7 6 5]]valeur=18\n",
      "[[1 2 3]\n",
      " [8 4 0]\n",
      " [7 6 5]]valeur=17\n",
      "[[1 2 0]\n",
      " [8 4 3]\n",
      " [7 6 5]]valeur=16\n",
      "[[1 0 2]\n",
      " [8 4 3]\n",
      " [7 6 5]]valeur=15\n",
      "[[1 4 2]\n",
      " [8 0 3]\n",
      " [7 6 5]]valeur=14\n",
      "[[1 4 2]\n",
      " [8 6 3]\n",
      " [7 0 5]]valeur=13\n",
      "[[1 4 2]\n",
      " [8 6 3]\n",
      " [7 5 0]]valeur=12\n",
      "[[1 4 2]\n",
      " [8 6 0]\n",
      " [7 5 3]]valeur=11\n",
      "[[1 4 2]\n",
      " [8 0 6]\n",
      " [7 5 3]]valeur=10\n",
      "[[1 4 2]\n",
      " [0 8 6]\n",
      " [7 5 3]]valeur=9\n",
      "[[0 4 2]\n",
      " [1 8 6]\n",
      " [7 5 3]]valeur=8\n",
      "[[4 0 2]\n",
      " [1 8 6]\n",
      " [7 5 3]]valeur=7\n",
      "[[4 2 0]\n",
      " [1 8 6]\n",
      " [7 5 3]]valeur=6\n",
      "[[4 2 6]\n",
      " [1 8 0]\n",
      " [7 5 3]]valeur=5\n",
      "[[4 2 6]\n",
      " [1 0 8]\n",
      " [7 5 3]]valeur=4\n",
      "[[4 2 6]\n",
      " [0 1 8]\n",
      " [7 5 3]]valeur=3\n",
      "[[0 2 6]\n",
      " [4 1 8]\n",
      " [7 5 3]]valeur=2\n",
      "[[2 0 6]\n",
      " [4 1 8]\n",
      " [7 5 3]]valeur=1\n",
      "[[2 1 6]\n",
      " [4 0 8]\n",
      " [7 5 3]]valeur=0\n",
      "Nombre d'étapes de la solution: 18\n",
      "=------------------------------=\n",
      "Nombre de noeuds explorés 1241\n",
      "Nombre de noeuds de la frontière 903\n",
      "Nombre de noeuds en mémoire: 2144\n",
      "temps de calcul: 17.482362031936646\n",
      "=------------------------------=\n"
     ]
    }
   ],
   "source": [
    "p1 = taquin.ProblemeTaquin(puzzle1,puzzle2,'pieces')\n",
    "print (\"=------------------------------=\")\n",
    "print (\"Heuristique:\",  p1.heuristique)\n",
    "print (\"Etat initial:\\n\", puzzle1)\n",
    "print (\"Etat but:\\n\", puzzle2)\n",
    "print (\"=------------------------------=\")\n",
    "print (\"Solution:\\n\")\n",
    "probleme.astar(p1,True,False)"
   ]
  },
  {
   "cell_type": "code",
   "execution_count": 11,
   "metadata": {
    "collapsed": false
   },
   "outputs": [
    {
     "name": "stdout",
     "output_type": "stream",
     "text": [
      "=------------------------------=\n",
      "Heuristique: manhattan\n",
      "Etat initial:\n",
      " [[2 1 6]\n",
      " [4 0 8]\n",
      " [7 5 3]]\n",
      "Etat but:\n",
      " [[1 2 3]\n",
      " [8 0 4]\n",
      " [7 6 5]]\n",
      "=------------------------------=\n",
      "Solution:\n",
      "\n",
      "Solution trouvée\n",
      "[[1 2 3]\n",
      " [8 0 4]\n",
      " [7 6 5]]valeur=18\n",
      "[[1 0 3]\n",
      " [8 2 4]\n",
      " [7 6 5]]valeur=17\n",
      "[[0 1 3]\n",
      " [8 2 4]\n",
      " [7 6 5]]valeur=16\n",
      "[[8 1 3]\n",
      " [0 2 4]\n",
      " [7 6 5]]valeur=15\n",
      "[[8 1 3]\n",
      " [2 0 4]\n",
      " [7 6 5]]valeur=14\n",
      "[[8 1 3]\n",
      " [2 4 0]\n",
      " [7 6 5]]valeur=13\n",
      "[[8 1 0]\n",
      " [2 4 3]\n",
      " [7 6 5]]valeur=12\n",
      "[[8 0 1]\n",
      " [2 4 3]\n",
      " [7 6 5]]valeur=11\n",
      "[[0 8 1]\n",
      " [2 4 3]\n",
      " [7 6 5]]valeur=10\n",
      "[[2 8 1]\n",
      " [0 4 3]\n",
      " [7 6 5]]valeur=9\n",
      "[[2 8 1]\n",
      " [4 0 3]\n",
      " [7 6 5]]valeur=8\n",
      "[[2 8 1]\n",
      " [4 6 3]\n",
      " [7 0 5]]valeur=7\n",
      "[[2 8 1]\n",
      " [4 6 3]\n",
      " [7 5 0]]valeur=6\n",
      "[[2 8 1]\n",
      " [4 6 0]\n",
      " [7 5 3]]valeur=5\n",
      "[[2 8 1]\n",
      " [4 0 6]\n",
      " [7 5 3]]valeur=4\n",
      "[[2 0 1]\n",
      " [4 8 6]\n",
      " [7 5 3]]valeur=3\n",
      "[[2 1 0]\n",
      " [4 8 6]\n",
      " [7 5 3]]valeur=2\n",
      "[[2 1 6]\n",
      " [4 8 0]\n",
      " [7 5 3]]valeur=1\n",
      "[[2 1 6]\n",
      " [4 0 8]\n",
      " [7 5 3]]valeur=0\n",
      "Nombre d'étapes de la solution: 18\n",
      "=------------------------------=\n",
      "Nombre de noeuds étendus 21936\n",
      "Nombre de noeuds en mémoire 19\n",
      "temps de calcul: 80.45662808418274\n",
      "=------------------------------=\n"
     ]
    }
   ],
   "source": [
    "p1 = taquin.ProblemeTaquin(puzzle1,puzzle2,'manhattan')\n",
    "print (\"=------------------------------=\")\n",
    "print (\"Heuristique:\",  p1.heuristique)\n",
    "print (\"Etat initial:\\n\", puzzle1)\n",
    "print (\"Etat but:\\n\", puzzle2)\n",
    "print (\"=------------------------------=\")\n",
    "print (\"Solution:\\n\")\n",
    "probleme.idastar(p1,True,False)"
   ]
  },
  {
   "cell_type": "markdown",
   "metadata": {
    "collapsed": false,
    "slideshow": {
     "slide_type": "subslide"
    }
   },
   "source": [
    "### Pattern Databases\n",
    "\n",
    "*Idée*: on s'intéresse au coût exact de sous-problèmes de notre problème général, qui consistuent des bornes inf du coût du problème général. \n",
    "\n",
    "On créé donc une base de donnée avec le coût exact correspondant à toutes les configurations possibles du sous-problème. \n",
    "Pour cela, on part du but et on calcule le coût de chaque configuration rencontrée. \n",
    "\n",
    "\n",
    "\n"
   ]
  },
  {
   "cell_type": "markdown",
   "metadata": {},
   "source": [
    "> Version du 2017-02-09"
   ]
  },
  {
   "cell_type": "code",
   "execution_count": null,
   "metadata": {
    "collapsed": true
   },
   "outputs": [],
   "source": []
  }
 ],
 "metadata": {
  "anaconda-cloud": {},
  "kernelspec": {
   "display_name": "Python [default]",
   "language": "python",
   "name": "python3"
  },
  "language_info": {
   "codemirror_mode": {
    "name": "ipython",
    "version": 3
   },
   "file_extension": ".py",
   "mimetype": "text/x-python",
   "name": "python",
   "nbconvert_exporter": "python",
   "pygments_lexer": "ipython3",
   "version": "3.5.2"
  }
 },
 "nbformat": 4,
 "nbformat_minor": 0
}
